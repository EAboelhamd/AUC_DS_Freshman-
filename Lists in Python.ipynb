{
 "cells": [
  {
   "cell_type": "markdown",
   "metadata": {},
   "source": [
    "## Introduction:\n",
    "\n",
    "This notebook is one of the notebooks that illustrate some data types that allow you to create variable with more than one value stored in. \n",
    "\n",
    "This notebook is mainly for illustrating the following concepts .. \n",
    "\n",
    "1. Lists\n",
    "2. Tuples\n",
    "3. Sets\n",
    "\n",
    "In this notebook we gonna learn Lists and the rest of the topics will be illustrated in other notebooks .."
   ]
  },
  {
   "cell_type": "markdown",
   "metadata": {},
   "source": [
    "### 1. Lists in Python\n",
    "\n",
    "You can define an empty list in Pyhton using empty square brackets [] .. "
   ]
  },
  {
   "cell_type": "code",
   "execution_count": 5,
   "metadata": {},
   "outputs": [],
   "source": [
    "x = []"
   ]
  },
  {
   "cell_type": "code",
   "execution_count": 6,
   "metadata": {},
   "outputs": [
    {
     "data": {
      "text/plain": [
       "list"
      ]
     },
     "execution_count": 6,
     "metadata": {},
     "output_type": "execute_result"
    }
   ],
   "source": [
    "type(x)"
   ]
  },
  {
   "cell_type": "markdown",
   "metadata": {},
   "source": [
    "type( ) ..\n",
    "\n",
    "is a built in function in Python that allows you to print the type of each variable by writing it inside the prackets of the function i.e. type (variable) .. \n",
    "\n",
    "Here, x is an empty list .. \n",
    "\n",
    "let's create a list with some values .. "
   ]
  },
  {
   "cell_type": "code",
   "execution_count": 7,
   "metadata": {},
   "outputs": [
    {
     "name": "stdout",
     "output_type": "stream",
     "text": [
      "[1, 2, 3]\n"
     ]
    }
   ],
   "source": [
    "x = [1, 2, 3]\n",
    "print(x)"
   ]
  },
  {
   "cell_type": "code",
   "execution_count": 8,
   "metadata": {},
   "outputs": [
    {
     "data": {
      "text/plain": [
       "list"
      ]
     },
     "execution_count": 8,
     "metadata": {},
     "output_type": "execute_result"
    }
   ],
   "source": [
    "type(x)"
   ]
  },
  {
   "cell_type": "markdown",
   "metadata": {},
   "source": [
    "We can also initialize x with some character values .. "
   ]
  },
  {
   "cell_type": "code",
   "execution_count": 9,
   "metadata": {},
   "outputs": [
    {
     "name": "stdout",
     "output_type": "stream",
     "text": [
      "['A', 'U', 'C']\n"
     ]
    }
   ],
   "source": [
    "y = ['A', 'U', 'C']\n",
    "print(y)"
   ]
  },
  {
   "cell_type": "markdown",
   "metadata": {},
   "source": [
    "We can even create a list of mixed datatypes .. "
   ]
  },
  {
   "cell_type": "code",
   "execution_count": 10,
   "metadata": {},
   "outputs": [
    {
     "name": "stdout",
     "output_type": "stream",
     "text": [
      "[1, 'A', 'University', 3.4]\n"
     ]
    }
   ],
   "source": [
    "data = [1, 'A', \"University\", 3.4]\n",
    "print(data)"
   ]
  },
  {
   "cell_type": "code",
   "execution_count": 11,
   "metadata": {},
   "outputs": [
    {
     "data": {
      "text/plain": [
       "list"
      ]
     },
     "execution_count": 11,
     "metadata": {},
     "output_type": "execute_result"
    }
   ],
   "source": [
    "type(data)"
   ]
  },
  {
   "cell_type": "markdown",
   "metadata": {},
   "source": [
    "data is still a list :) \n",
    "\n",
    "#### Nested lists:\n",
    "\n",
    "We can even create a list inside another list .. "
   ]
  },
  {
   "cell_type": "code",
   "execution_count": 12,
   "metadata": {},
   "outputs": [
    {
     "name": "stdout",
     "output_type": "stream",
     "text": [
      "[1, 'student-1', [2, 3]]\n"
     ]
    }
   ],
   "source": [
    "nested_list = [1, \"student-1\", [2, 3]]\n",
    "print(nested_list)"
   ]
  },
  {
   "cell_type": "code",
   "execution_count": 13,
   "metadata": {},
   "outputs": [
    {
     "data": {
      "text/plain": [
       "list"
      ]
     },
     "execution_count": 13,
     "metadata": {},
     "output_type": "execute_result"
    }
   ],
   "source": [
    "type(nested_list)"
   ]
  },
  {
   "cell_type": "markdown",
   "metadata": {},
   "source": [
    "### List's index:\n",
    "\n",
    "Now let's dicuss how we can access the elements inside the list .. \n",
    "\n",
    "This can be done by typing the name of the list and then inside [] we can type the index (i.e. position) of the element we want to retrieve from the list ..\n",
    "\n",
    "Note that Python is a \"Zero\" based programming language .. which means the elements count starts from (0) "
   ]
  },
  {
   "cell_type": "code",
   "execution_count": 14,
   "metadata": {},
   "outputs": [
    {
     "name": "stdout",
     "output_type": "stream",
     "text": [
      "['A', 'B', 'C']\n"
     ]
    }
   ],
   "source": [
    "x = ['A', 'B', 'C']\n",
    "print(x)"
   ]
  },
  {
   "cell_type": "code",
   "execution_count": 15,
   "metadata": {},
   "outputs": [
    {
     "data": {
      "text/plain": [
       "'A'"
      ]
     },
     "execution_count": 15,
     "metadata": {},
     "output_type": "execute_result"
    }
   ],
   "source": [
    "x[0]"
   ]
  },
  {
   "cell_type": "markdown",
   "metadata": {},
   "source": [
    "This will retrieve the first element in our list x .. \n",
    "\n",
    "But what if we want to retrieve data from a nested list ?! .. "
   ]
  },
  {
   "cell_type": "code",
   "execution_count": 16,
   "metadata": {},
   "outputs": [
    {
     "name": "stdout",
     "output_type": "stream",
     "text": [
      "[1, 'student-1', [2, 3]]\n"
     ]
    }
   ],
   "source": [
    "print(nested_list)"
   ]
  },
  {
   "cell_type": "code",
   "execution_count": 17,
   "metadata": {},
   "outputs": [
    {
     "data": {
      "text/plain": [
       "(3,)"
      ]
     },
     "execution_count": 17,
     "metadata": {},
     "output_type": "execute_result"
    }
   ],
   "source": [
    "import numpy as np \n",
    "np.shape(nested_list)  #check the dimensions (i.e. number of raws and columns in our nested list)"
   ]
  },
  {
   "cell_type": "code",
   "execution_count": 18,
   "metadata": {},
   "outputs": [
    {
     "data": {
      "text/plain": [
       "3"
      ]
     },
     "execution_count": 18,
     "metadata": {},
     "output_type": "execute_result"
    }
   ],
   "source": [
    "nested_list[2][1]"
   ]
  },
  {
   "cell_type": "markdown",
   "metadata": {},
   "source": [
    "Here we could retrieve the second value in the third element of our nested list (the third element itself is a list) .."
   ]
  },
  {
   "cell_type": "markdown",
   "metadata": {},
   "source": [
    "### Negative Lists:\n",
    "\n",
    "We can access the list (or nested list) from back to front .. using a netagive index .. \n",
    "\n",
    "i.e. the last element in the list takes an index of -1 ..\n",
    "the previous one takes an index of -2 ..\n",
    "etc. until reaching the 1st element in the list .. as demonestrated below .."
   ]
  },
  {
   "cell_type": "code",
   "execution_count": 19,
   "metadata": {},
   "outputs": [
    {
     "data": {
      "image/png": "[encoded data removed]",
      "text/plain": [
       "<IPython.core.display.Image object>"
      ]
     },
     "execution_count": 19,
     "metadata": {},
     "output_type": "execute_result"
    }
   ],
   "source": [
    "from IPython.display import Image\n",
    "Image(\"index.png\")   #source of the below image (https://www.programiz.com/python-programming/list)"
   ]
  },
  {
   "cell_type": "markdown",
   "metadata": {},
   "source": [
    "### List slicing .. \n",
    "\n",
    "Now, let's check how to slice a list in Python to smaller lists .. \n",
    "\n",
    "This is done by specifying the indices of the rage of values you want to slice, and put them between [] "
   ]
  },
  {
   "cell_type": "code",
   "execution_count": 20,
   "metadata": {},
   "outputs": [
    {
     "name": "stdout",
     "output_type": "stream",
     "text": [
      "[1, 'student-1', [2, 3]]\n"
     ]
    }
   ],
   "source": [
    "print(nested_list)"
   ]
  },
  {
   "cell_type": "code",
   "execution_count": 21,
   "metadata": {},
   "outputs": [
    {
     "data": {
      "text/plain": [
       "[1, 'student-1']"
      ]
     },
     "execution_count": 21,
     "metadata": {},
     "output_type": "execute_result"
    }
   ],
   "source": [
    "nested_list[0:2]"
   ]
  },
  {
   "cell_type": "markdown",
   "metadata": {},
   "source": [
    "The above command retrieves the 1st two elements of our nested list .. "
   ]
  },
  {
   "cell_type": "code",
   "execution_count": 22,
   "metadata": {},
   "outputs": [
    {
     "data": {
      "text/plain": [
       "[1, 'student-1']"
      ]
     },
     "execution_count": 22,
     "metadata": {},
     "output_type": "execute_result"
    }
   ],
   "source": [
    "nested_list[:-1]  "
   ]
  },
  {
   "cell_type": "markdown",
   "metadata": {},
   "source": [
    "applying negative index concept ..\n",
    "the above command will retrieve all the elements before the last one (that has an index on -1) .. "
   ]
  },
  {
   "cell_type": "code",
   "execution_count": 23,
   "metadata": {},
   "outputs": [
    {
     "data": {
      "text/plain": [
       "[1]"
      ]
     },
     "execution_count": 23,
     "metadata": {},
     "output_type": "execute_result"
    }
   ],
   "source": [
    "nested_list[:-2]  "
   ]
  },
  {
   "cell_type": "markdown",
   "metadata": {},
   "source": [
    "the above command will retrieve all the elements before the last one (that has an index on -2)"
   ]
  },
  {
   "cell_type": "code",
   "execution_count": 24,
   "metadata": {},
   "outputs": [
    {
     "data": {
      "text/plain": [
       "['student-1', [2, 3]]"
      ]
     },
     "execution_count": 24,
     "metadata": {},
     "output_type": "execute_result"
    }
   ],
   "source": [
    "nested_list[1:]  "
   ]
  },
  {
   "cell_type": "markdown",
   "metadata": {},
   "source": [
    "retrieve all elements starting from the 2nd element till the end of the list .. \n",
    "\n",
    "We still have another way to print all the element within the list using this approach [] .. "
   ]
  },
  {
   "cell_type": "code",
   "execution_count": 25,
   "metadata": {},
   "outputs": [
    {
     "data": {
      "text/plain": [
       "[1, 'student-1', [2, 3]]"
      ]
     },
     "execution_count": 25,
     "metadata": {},
     "output_type": "execute_result"
    }
   ],
   "source": [
    "nested_list[:] "
   ]
  },
  {
   "cell_type": "markdown",
   "metadata": {},
   "source": [
    "### Lists Element's Manipulation: \n",
    "\n",
    "Now let's discuss how we manipulate the elements of the list .. i.e. change its value, add, remove elements, etc "
   ]
  },
  {
   "cell_type": "code",
   "execution_count": 26,
   "metadata": {},
   "outputs": [
    {
     "name": "stdout",
     "output_type": "stream",
     "text": [
      "[10, 'student-1', [2, 3]]\n"
     ]
    }
   ],
   "source": [
    "nested_list[0] = 10\n",
    "print(nested_list)"
   ]
  },
  {
   "cell_type": "markdown",
   "metadata": {},
   "source": [
    "This command will change the value of the first element in nestead_data to 10 instead of 1"
   ]
  },
  {
   "cell_type": "code",
   "execution_count": 27,
   "metadata": {},
   "outputs": [
    {
     "name": "stdout",
     "output_type": "stream",
     "text": [
      "[10, 'student-1', [2, 3], 100]\n"
     ]
    }
   ],
   "source": [
    "nested_list.append(100)\n",
    "print(nested_list)"
   ]
  },
  {
   "cell_type": "markdown",
   "metadata": {},
   "source": [
    "append() is a built in function that allows you to add an element at the end of the list or nested lists ..\n",
    "\n",
    "What if we want to inster an element in the middle of the list .. \n",
    "\n",
    "This is can be done using insert() built in function .. "
   ]
  },
  {
   "cell_type": "code",
   "execution_count": 28,
   "metadata": {},
   "outputs": [
    {
     "name": "stdout",
     "output_type": "stream",
     "text": [
      "[10, 80, 'student-1', [2, 3], 100]\n"
     ]
    }
   ],
   "source": [
    "nested_list.insert(1, 80)\n",
    "print(nested_list)"
   ]
  },
  {
   "cell_type": "markdown",
   "metadata": {},
   "source": [
    "Let's add certain value to the 1st element in our list .. "
   ]
  },
  {
   "cell_type": "code",
   "execution_count": 29,
   "metadata": {},
   "outputs": [
    {
     "name": "stdout",
     "output_type": "stream",
     "text": [
      "[15, 80, 'student-1', [2, 3], 100]\n"
     ]
    }
   ],
   "source": [
    "nested_list[0] = nested_list[0] + 5\n",
    "print(nested_list)"
   ]
  },
  {
   "cell_type": "markdown",
   "metadata": {},
   "source": [
    "The value of the first element in our list changed from 10 to 15 after adding a value of 5 .. \n",
    "\n",
    "Take care, you have to put the new value back in the 1st element of the list using = operator .. \n",
    "\n",
    "to gurantee that the new value has been changed succesfully in the list .. \n",
    "\n",
    "You can also remove an element from the list using many ways:\n",
    "\n",
    "1. Using del keyword in Python .. \n",
    "2. Using remove() built in function .. here you can determine the value you want to remove .. instead of its position .. "
   ]
  },
  {
   "cell_type": "code",
   "execution_count": 30,
   "metadata": {},
   "outputs": [
    {
     "name": "stdout",
     "output_type": "stream",
     "text": [
      "[15, 80, [2, 3], 100]\n"
     ]
    }
   ],
   "source": [
    "del nested_list[2]\n",
    "\n",
    "print(nested_list)"
   ]
  },
  {
   "cell_type": "code",
   "execution_count": 31,
   "metadata": {},
   "outputs": [
    {
     "name": "stdout",
     "output_type": "stream",
     "text": [
      "[15, [2, 3], 100]\n"
     ]
    }
   ],
   "source": [
    "nested_list.remove(80)\n",
    "\n",
    "print(nested_list)"
   ]
  },
  {
   "cell_type": "markdown",
   "metadata": {},
   "source": [
    "To remove all elements in the list .. you can use the built in function clear()"
   ]
  },
  {
   "cell_type": "code",
   "execution_count": 32,
   "metadata": {},
   "outputs": [
    {
     "name": "stdout",
     "output_type": "stream",
     "text": [
      "[]\n"
     ]
    }
   ],
   "source": [
    "nested_list2 = nested_list # let's backup our list in another list first and remove the backup :) \n",
    "nested_list2.clear()\n",
    "\n",
    "print(nested_list2)"
   ]
  },
  {
   "cell_type": "markdown",
   "metadata": {},
   "source": [
    "### References:\n",
    "\n",
    "You can learn more about lists through the below links:\n",
    "\n",
    "1. https://www.programiz.com/python-programming/list\n",
    "2. https://www.w3schools.com/python/python_lists.asp"
   ]
  }
 ],
 "metadata": {
  "kernelspec": {
   "display_name": "Python 3",
   "language": "python",
   "name": "python3"
  },
  "language_info": {
   "codemirror_mode": {
    "name": "ipython",
    "version": 3
   },
   "file_extension": ".py",
   "mimetype": "text/x-python",
   "name": "python",
   "nbconvert_exporter": "python",
   "pygments_lexer": "ipython3",
   "version": "3.6.8"
  }
 },
 "nbformat": 4,
 "nbformat_minor": 2
}
