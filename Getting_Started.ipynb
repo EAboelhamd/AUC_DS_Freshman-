{
 "cells": [
  {
   "cell_type": "markdown",
   "metadata": {},
   "source": [
    "## Introduction\n",
    "\n",
    "Congratulations :) .. \n",
    "\n",
    "This is your first Jupyter notebook code .. \n",
    "\n",
    "In this notebook we gonna learn the basics of variables and their corresponding data types in Python .. \n",
    "\n",
    "This notebook is mainly for illustrating the following concepts .. \n",
    "\n",
    "1. Variables datatypes\n",
    "2. Basic Oprations"
   ]
  },
  {
   "cell_type": "markdown",
   "metadata": {},
   "source": [
    "## Define Variables \n",
    "\n",
    "In Python you are epxpected to assign an initial value for the decared variable, and Python is able to infer the datatype based on the assigned value .. \n",
    "\n",
    "I.e. If you type the below command .. "
   ]
  },
  {
   "cell_type": "code",
   "execution_count": 1,
   "metadata": {},
   "outputs": [
    {
     "name": "stdout",
     "output_type": "stream",
     "text": [
      "10\n"
     ]
    }
   ],
   "source": [
    "x = 10\n",
    "\n",
    "print(x)"
   ]
  },
  {
   "cell_type": "markdown",
   "metadata": {},
   "source": [
    "Python will consider x as an (int) variable and free the predefined space for (int) in the memory accordingly..\n",
    "\n",
    "and at any point in time you can change the value of x .. to any other datatype "
   ]
  },
  {
   "cell_type": "code",
   "execution_count": 3,
   "metadata": {},
   "outputs": [
    {
     "name": "stdout",
     "output_type": "stream",
     "text": [
      "a\n"
     ]
    }
   ],
   "source": [
    "x = 'a'\n",
    "\n",
    "print(x)"
   ]
  },
  {
   "cell_type": "markdown",
   "metadata": {},
   "source": [
    "Here x is changed to character .. and Python didn't give an error! ..\n",
    "\n",
    "You can change it to string or even to an array as well ..\n",
    "\n",
    "using the below commands"
   ]
  },
  {
   "cell_type": "code",
   "execution_count": 4,
   "metadata": {},
   "outputs": [
    {
     "name": "stdout",
     "output_type": "stream",
     "text": [
      "AUC\n"
     ]
    }
   ],
   "source": [
    "x = \"AUC\"\n",
    "\n",
    "print(x)"
   ]
  },
  {
   "cell_type": "code",
   "execution_count": 6,
   "metadata": {},
   "outputs": [
    {
     "name": "stdout",
     "output_type": "stream",
     "text": [
      "['a', 'b', 'c']\n"
     ]
    }
   ],
   "source": [
    "x = ['a', 'b', 'c']\n",
    "\n",
    "print(x)"
   ]
  },
  {
   "cell_type": "markdown",
   "metadata": {},
   "source": [
    "### Display the value of the variable .. \n",
    "\n",
    "In Python you can display the value of each variable you have in you code using one of the below commands .. "
   ]
  },
  {
   "cell_type": "code",
   "execution_count": 10,
   "metadata": {},
   "outputs": [
    {
     "name": "stdout",
     "output_type": "stream",
     "text": [
      "['a', 'b', 'c']\n"
     ]
    }
   ],
   "source": [
    "print(x)  ## this will only print the value of x"
   ]
  },
  {
   "cell_type": "code",
   "execution_count": 12,
   "metadata": {},
   "outputs": [
    {
     "name": "stdout",
     "output_type": "stream",
     "text": [
      "X =  ['a', 'b', 'c']\n"
     ]
    }
   ],
   "source": [
    "print(\"X = \", x)    ## this command will add the name of x before the value .. "
   ]
  },
  {
   "cell_type": "markdown",
   "metadata": {},
   "source": [
    "## Mathematical Operations in Python:\n",
    "\n",
    "### Set of imports\n",
    "\n",
    "The start of every notebook, expected to be set of imports to the needed libraries in your code (this means to include / call these libraries to your code to be able to use any built in functions inside each of these libraries .. \n",
    "\n",
    "\n",
    "### Numpy:\n",
    "Basically, we need to import numpy .. this library contains built in functions that are used for any numeric manipulations. It also contains set of built in functions for mathematical and statistical manipulation.. It's one of the fundamental packages in Python .. and you can import it by typing (import numpy) .. and then inside the code you can call any function inside it using >> numpy.function_name() .. Meanwhile, to facilitate this process, you can give it a nickname .. i.e. np .. to type just np instead of numpy (for short) .. \n",
    "\n",
    "Hence, the most popular importing way for numpy is to write >> \n",
    "\n",
    "    import numpy as np\n",
    "\n",
    "By running the above command, the library will be included successfully to your code .. \n",
    "\n",
    "If you faced any issues or the library is not installed .. just install it from this link (https://docs.scipy.org/doc/numpy/user/install.html)\n"
   ]
  },
  {
   "cell_type": "code",
   "execution_count": 13,
   "metadata": {},
   "outputs": [],
   "source": [
    "import numpy as np  # numpy lib "
   ]
  },
  {
   "cell_type": "markdown",
   "metadata": {},
   "source": [
    "The mathematical operations in Python are very straightforward in Python .."
   ]
  },
  {
   "cell_type": "code",
   "execution_count": 22,
   "metadata": {},
   "outputs": [],
   "source": [
    "x = 15\n",
    "y = 3\n",
    "\n",
    "## here we defined two variables (x, y) and then assigned them values of (15, and 3) respectively\n",
    "\n",
    "## let's apply some mathematical functions on them .."
   ]
  },
  {
   "cell_type": "code",
   "execution_count": 23,
   "metadata": {},
   "outputs": [
    {
     "name": "stdout",
     "output_type": "stream",
     "text": [
      "x + y =  18\n",
      "x - y =  12\n",
      "x * y =  45\n",
      "x / y =  5.0\n"
     ]
    }
   ],
   "source": [
    "print(\"x + y = \", x + y)\n",
    "print(\"x - y = \", x - y)\n",
    "print(\"x * y = \", x * y)\n",
    "print(\"x / y = \", x / y)"
   ]
  },
  {
   "cell_type": "code",
   "execution_count": null,
   "metadata": {},
   "outputs": [],
   "source": []
  }
 ],
 "metadata": {
  "kernelspec": {
   "display_name": "Python 3",
   "language": "python",
   "name": "python3"
  },
  "language_info": {
   "codemirror_mode": {
    "name": "ipython",
    "version": 3
   },
   "file_extension": ".py",
   "mimetype": "text/x-python",
   "name": "python",
   "nbconvert_exporter": "python",
   "pygments_lexer": "ipython3",
   "version": "3.6.8"
  }
 },
 "nbformat": 4,
 "nbformat_minor": 2
}
