{
 "cells": [
  {
   "cell_type": "markdown",
   "metadata": {},
   "source": [
    "## Introduction:\n",
    "\n",
    "This notebook is one of the notebooks that illustrate some data types that allow you to create variable with more than one value stored in. \n",
    "\n",
    "These concepts are .. \n",
    "\n",
    "1. Lists\n",
    "2. Tuples\n",
    "3. Sets\n",
    "\n",
    "In this notebook we gonna learn Tuples and the rest of the topics will be illustrated in other notebooks .."
   ]
  },
  {
   "cell_type": "markdown",
   "metadata": {},
   "source": [
    "## Tuples in Python:\n",
    "\n",
    "A tuple is defined as a sequence of immutable Python objects. \n",
    "\n",
    "Tuples are sequences, similar to lists. Meanwhile, there are two differenced between tuples and lists: \n",
    "\n",
    "1. Tuples cannot be changed unlike lists \n",
    "2. Tuples use parentheses, whereas lists use square brackets\n",
    "\n",
    "Below are some commands for defining a tuple in Python"
   ]
  },
  {
   "cell_type": "code",
   "execution_count": 6,
   "metadata": {},
   "outputs": [
    {
     "name": "stdout",
     "output_type": "stream",
     "text": [
      "()\n"
     ]
    }
   ],
   "source": [
    "tuple0 = () #to define an empty tuple\n",
    "print(tuple0)"
   ]
  },
  {
   "cell_type": "code",
   "execution_count": 7,
   "metadata": {},
   "outputs": [
    {
     "data": {
      "text/plain": [
       "tuple"
      ]
     },
     "execution_count": 7,
     "metadata": {},
     "output_type": "execute_result"
    }
   ],
   "source": [
    "type(tuple1)  #print datatype of tuple0"
   ]
  },
  {
   "cell_type": "code",
   "execution_count": 8,
   "metadata": {},
   "outputs": [
    {
     "name": "stdout",
     "output_type": "stream",
     "text": [
      "(1, 4, 5)\n"
     ]
    }
   ],
   "source": [
    "tuple1 = (1, 4, 5)  #put values inside the tuple .. \n",
    "print(tuple1)"
   ]
  },
  {
   "cell_type": "code",
   "execution_count": 9,
   "metadata": {},
   "outputs": [
    {
     "name": "stdout",
     "output_type": "stream",
     "text": [
      "(1, 4, 5)\n"
     ]
    }
   ],
   "source": [
    "tuple2 = 1, 4, 5\n",
    "print(tuple2)"
   ]
  },
  {
   "cell_type": "markdown",
   "metadata": {},
   "source": [
    "Similar to lists .. tuple can carry values with different datatypes "
   ]
  },
  {
   "cell_type": "code",
   "execution_count": 10,
   "metadata": {},
   "outputs": [
    {
     "name": "stdout",
     "output_type": "stream",
     "text": [
      "(1, 'AUC', 3.8)\n"
     ]
    }
   ],
   "source": [
    "tuple3 = (1, 'AUC', 3.8)\n",
    "\n",
    "print(tuple3)"
   ]
  },
  {
   "cell_type": "markdown",
   "metadata": {},
   "source": [
    "Declaring a tuple with single value might seem a bit weired .. as you have to put (,) after the value .. although it's a single value .. "
   ]
  },
  {
   "cell_type": "code",
   "execution_count": 17,
   "metadata": {},
   "outputs": [
    {
     "name": "stdout",
     "output_type": "stream",
     "text": [
      "(10,)\n"
     ]
    }
   ],
   "source": [
    "tuple4 = (10,)\n",
    "print(tuple4)"
   ]
  },
  {
   "cell_type": "markdown",
   "metadata": {},
   "source": [
    "Let's check the dimensions of tuple4 to make sure it contains single value"
   ]
  },
  {
   "cell_type": "code",
   "execution_count": 18,
   "metadata": {},
   "outputs": [
    {
     "name": "stdout",
     "output_type": "stream",
     "text": [
      "(1,)\n"
     ]
    }
   ],
   "source": [
    "import numpy as np   #import the library \n",
    "print(np.shape(tuple4))  "
   ]
  },
  {
   "cell_type": "markdown",
   "metadata": {},
   "source": [
    "## Accessing the elements of the tuple:\n",
    "\n",
    "Exactly like the list .. \n",
    "to acess the elements inside the tuple to have to put the index of the desired element inside [] .. \n",
    "\n",
    "Let's aapply this on tuple3"
   ]
  },
  {
   "cell_type": "code",
   "execution_count": 20,
   "metadata": {},
   "outputs": [
    {
     "name": "stdout",
     "output_type": "stream",
     "text": [
      "(1, 'AUC', 3.8)\n"
     ]
    }
   ],
   "source": [
    "print(tuple3)"
   ]
  },
  {
   "cell_type": "code",
   "execution_count": 22,
   "metadata": {},
   "outputs": [
    {
     "data": {
      "text/plain": [
       "1"
      ]
     },
     "execution_count": 22,
     "metadata": {},
     "output_type": "execute_result"
    }
   ],
   "source": [
    "tuple3[0]  #print the first element in the tuple"
   ]
  },
  {
   "cell_type": "code",
   "execution_count": 24,
   "metadata": {},
   "outputs": [
    {
     "data": {
      "text/plain": [
       "(1, 'AUC')"
      ]
     },
     "execution_count": 24,
     "metadata": {},
     "output_type": "execute_result"
    }
   ],
   "source": [
    "tuple3[0:2]  #print the first two elements in the tuple"
   ]
  },
  {
   "cell_type": "markdown",
   "metadata": {},
   "source": [
    "Let's try to add / remove elements from the tuple .. \n",
    "\n",
    "but take care as it's not allowed to apply = operation on the tuple .. \n",
    "\n",
    "i.e. tuple3[0] = tuple3[0] + 5 (wrong statement, and will give an error) .. \n",
    "\n",
    "we can assign the updated value to a new variable "
   ]
  },
  {
   "cell_type": "code",
   "execution_count": 32,
   "metadata": {},
   "outputs": [],
   "source": [
    "tmp_tuple = (tuple3[0] + 9,)"
   ]
  },
  {
   "cell_type": "markdown",
   "metadata": {},
   "source": [
    "Don't forget to put the added part (tuple3[0] +9) inside () to make sure you follows the correct syntax of initializing a single variable .. \n",
    "\n",
    "Now let's add tmp_tuple value to tuple3"
   ]
  },
  {
   "cell_type": "code",
   "execution_count": 34,
   "metadata": {},
   "outputs": [
    {
     "name": "stdout",
     "output_type": "stream",
     "text": [
      "(1, 'AUC', 3.8, 10)\n"
     ]
    }
   ],
   "source": [
    "combined_tuple = tuple3 + tmp_tuple\n",
    "\n",
    "print(combined_tuple)"
   ]
  },
  {
   "cell_type": "markdown",
   "metadata": {},
   "source": [
    "You can delete the tuple .. using del keyword in Python .. "
   ]
  },
  {
   "cell_type": "code",
   "execution_count": 39,
   "metadata": {},
   "outputs": [],
   "source": [
    "del combined_tuple"
   ]
  },
  {
   "cell_type": "markdown",
   "metadata": {},
   "source": [
    "### Slicing tuples .. \n",
    "\n",
    "You can slice the tuple, it's very similar to the way in lists .. "
   ]
  },
  {
   "cell_type": "code",
   "execution_count": 40,
   "metadata": {},
   "outputs": [
    {
     "name": "stdout",
     "output_type": "stream",
     "text": [
      "(1, 'AUC', 3.8)\n"
     ]
    }
   ],
   "source": [
    "print(tuple3)"
   ]
  },
  {
   "cell_type": "code",
   "execution_count": 41,
   "metadata": {},
   "outputs": [
    {
     "data": {
      "text/plain": [
       "('AUC', 3.8)"
      ]
     },
     "execution_count": 41,
     "metadata": {},
     "output_type": "execute_result"
    }
   ],
   "source": [
    "tuple3[1:]"
   ]
  },
  {
   "cell_type": "markdown",
   "metadata": {},
   "source": [
    "Here we retrieve the elements starting from the second element in the tuple (its index is 1) until the end of it .. "
   ]
  },
  {
   "cell_type": "markdown",
   "metadata": {},
   "source": [
    "### Reference:\n",
    "\n",
    "You can read more about tuples through the below link:\n",
    "\n",
    "1. https://www.tutorialspoint.com/python/python_tuples.htm\n",
    "2. https://www.youtube.com/watch?v=NI26dqhs2Rk"
   ]
  }
 ],
 "metadata": {
  "kernelspec": {
   "display_name": "Python 3",
   "language": "python",
   "name": "python3"
  },
  "language_info": {
   "codemirror_mode": {
    "name": "ipython",
    "version": 3
   },
   "file_extension": ".py",
   "mimetype": "text/x-python",
   "name": "python",
   "nbconvert_exporter": "python",
   "pygments_lexer": "ipython3",
   "version": "3.6.8"
  }
 },
 "nbformat": 4,
 "nbformat_minor": 2
}
